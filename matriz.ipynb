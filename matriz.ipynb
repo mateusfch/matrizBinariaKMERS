{
  "nbformat": 4,
  "nbformat_minor": 0,
  "metadata": {
    "colab": {
      "provenance": [],
      "authorship_tag": "ABX9TyPZ8DkUfZl4lIuuJMmujY+o"
    },
    "kernelspec": {
      "name": "python3",
      "display_name": "Python 3"
    },
    "language_info": {
      "name": "python"
    }
  },
  "cells": [
    {
      "cell_type": "code",
      "execution_count": null,
      "metadata": {
        "id": "a-EyQ3kCah01"
      },
      "outputs": [],
      "source": [
        "from google.colab import drive\n",
        "drive.mount('/content/drive')"
      ]
    },
    {
      "cell_type": "code",
      "source": [
        "!pip install biopython\n",
        "!pip install pandas\n",
        "!pip install collection\n",
        "!pip install numpy"
      ],
      "metadata": {
        "id": "jDbwjVpBale_"
      },
      "execution_count": null,
      "outputs": []
    },
    {
      "cell_type": "code",
      "source": [
        "import random\n",
        "import numpy as np\n",
        "import pandas as pd"
      ],
      "metadata": {
        "id": "KE8pXaPlaoxj"
      },
      "execution_count": null,
      "outputs": []
    },
    {
      "cell_type": "code",
      "source": [
        "numOrganismos = 0\n",
        "arqSaida = \"\"\n",
        "arq = open(\"/content/drive/MyDrive/pr2_version_5.0.0_SSU_dada2.fasta\", \"r\")\n",
        "linhas = arq.readlines()\n",
        "#random.seed(22042001)\n",
        "organismos = {}\n",
        "organismos_familia = {}\n",
        "\n",
        "for i in range(0, len(linhas), 2):\n",
        "  organismos_familia[linhas[i].split(\";\")[7]] = linhas[i].split(\";\")[6]\n",
        "  organismos[linhas[i].split(\";\")[6] + \"  \" + linhas[i].split(\";\")[7]] = linhas[i+1]\n",
        "\n"
      ],
      "metadata": {
        "id": "Wi1Er2aI4-Ls"
      },
      "execution_count": 71,
      "outputs": []
    },
    {
      "cell_type": "code",
      "source": [
        "# k_mers - para o database\n",
        "def getKmers(organismos, tamanho):\n",
        "  k_mers = {}\n",
        "\n",
        "  for genero, sequencia in organismos.items():\n",
        "    lista_k_mers = {}\n",
        "    for i in range (0, len(sequencia)-tamanho+1):\n",
        "      lista_k_mers[sequencia[i:i+tamanho]] = lista_k_mers.get(sequencia[i:i+tamanho],0) + 1\n",
        "    k_mers[genero] = lista_k_mers\n",
        "\n",
        "  return k_mers\n",
        "\n",
        "# k_mers - para a sequência a ser classificada\n",
        "def getKmersSeq(sequencia, tamanho):\n",
        "  k_mers = {}\n",
        "  for i in range(0, len(sequencia)-tamanho+1):\n",
        "    k_mers[sequencia[i:i+tamanho]] = k_mers.get(sequencia[i:i+tamanho],0) + 1\n",
        "  return k_mers\n",
        "\n",
        "\n",
        "k_db = getKmers(organismos, 8)\n",
        "k_cl = getKmersSeq(\"CGGAGAGGGAGCCTGAGAAACGGCTACCACATCTACGGAAGGCAGCAGGCGCGCAAATTGCCCAATCCTGACACGGGGAGGCAGT\", 8)\n",
        "\n",
        "print(k_db)\n",
        "print(k_cl)\n"
      ],
      "metadata": {
        "id": "HJJHcqLzLGcv",
        "colab": {
          "base_uri": "https://localhost:8080/"
        },
        "outputId": "69cc7833-9f37-41d4-aa86-215e4df5c65a"
      },
      "execution_count": 72,
      "outputs": [
        {
          "output_type": "stream",
          "name": "stderr",
          "text": [
            "IOPub data rate exceeded.\n",
            "The notebook server will temporarily stop sending output\n",
            "to the client in order to avoid crashing it.\n",
            "To change this limit, set the config variable\n",
            "`--NotebookApp.iopub_data_rate_limit`.\n",
            "\n",
            "Current values:\n",
            "NotebookApp.iopub_data_rate_limit=1000000.0 (bytes/sec)\n",
            "NotebookApp.rate_limit_window=3.0 (secs)\n",
            "\n"
          ]
        }
      ]
    },
    {
      "cell_type": "code",
      "source": [
        "# k_dbKEY -> Unruhdinium\n",
        "# k_dbVAL -> {'ATGCTTGT': 1, 'TGCTTGTC': 1, 'GCTTGTCT': 1, 'CTTGTCTC': 1,...}\n",
        "# k_cl -> {'CGGAGAGG': 1, 'GGAGAGGG': 1, 'GAGAGGGM': 1, 'AGAGGGMM': 1, 'GAGGGMMM': 1, 'AGGGMMMM': 1, 'GGGMMMMM': 1, 'GGMMMMMM': 1, 'GMMMMMMM': 1}\n",
        "\n",
        "\n",
        "aparece = {}\n",
        "for k_dbKEY, k_dbVAL in k_db.items():\n",
        "  intersec = k_dbVAL.keys() & k_cl.keys()\n",
        "  #print(intersec)\n",
        "  #print(k_cl)\n",
        "  aparece_KMER = {}\n",
        "  for k_clKEY in k_cl.keys():\n",
        "    aparece_KMER[k_clKEY] = 1 if k_clKEY in intersec else 0\n",
        "  aparece[k_dbKEY] = aparece_KMER\n",
        "\n",
        "#print(aparece)\n",
        "\n",
        "\n",
        "df = (pd.DataFrame(aparece)).transpose().sort_index(axis=1)\n",
        "\n",
        "print(df)\n",
        "\n",
        "df.to_csv('/content/drive/MyDrive/tabela.csv', index=True)\n",
        "\n",
        "\n",
        "#         [K-mer 1] [K-mer2] [K-mer3]\n",
        "# [Arroz]    1         0       1\n",
        "# [Alga]\n",
        "# [Cad]\n",
        "\n",
        "# dicionario de listas -> genero : [1,2,3,4]\n",
        "\n",
        "# cada linha com um gênero distinto, tendo o número de linhas iguais ao gêneros distintos totais\n",
        "# cada coluna vai ser um k-mer da sequência a ser classsificada\n",
        "# marco com 1 se aquele k-mer existe no gênero, marco 0 se não existir\n",
        "# pintar os que forem 1 de roxo, e os que forem 0 de branco (?)"
      ],
      "metadata": {
        "id": "_qsNXB5fn7In"
      },
      "execution_count": null,
      "outputs": []
    }
  ]
}